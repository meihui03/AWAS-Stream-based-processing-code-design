{
 "cells": [
  {
   "cell_type": "markdown",
   "id": "6e84c7dd",
   "metadata": {},
   "source": [
    "# Producer C\n"
   ]
  },
  {
   "cell_type": "code",
   "execution_count": null,
   "id": "7ffb4b6c",
   "metadata": {},
   "outputs": [],
   "source": [
    "import pandas as pd\n",
    "from kafka import KafkaProducer\n",
    "from datetime import datetime\n",
    "import time\n",
    "import json"
   ]
  },
  {
   "cell_type": "code",
   "execution_count": 15,
   "id": "6f54f893",
   "metadata": {},
   "outputs": [
    {
     "name": "stdout",
     "output_type": "stream",
     "text": [
      "📤 Sending batch_id=1 | Records=1 | Timestamp=2025-05-28T03:54:01.945758 | Sending from producer 3\n",
      "📤 Sending batch_id=2 | Records=1 | Timestamp=2025-05-28T03:54:02.777606 | Sending from producer 3\n",
      "📤 Sending batch_id=3 | Records=2 | Timestamp=2025-05-28T03:54:03.597699 | Sending from producer 3\n",
      "📤 Sending batch_id=4 | Records=2 | Timestamp=2025-05-28T03:54:04.407859 | Sending from producer 3\n",
      "📤 Sending batch_id=5 | Records=1 | Timestamp=2025-05-28T03:54:05.213467 | Sending from producer 3\n",
      "📤 Sending batch_id=6 | Records=1 | Timestamp=2025-05-28T03:54:06.018821 | Sending from producer 3\n",
      "📤 Sending batch_id=7 | Records=2 | Timestamp=2025-05-28T03:54:06.823895 | Sending from producer 3\n",
      "📤 Sending batch_id=8 | Records=1 | Timestamp=2025-05-28T03:54:07.634619 | Sending from producer 3\n",
      "📤 Sending batch_id=9 | Records=2 | Timestamp=2025-05-28T03:54:08.460194 | Sending from producer 3\n",
      "📤 Sending batch_id=10 | Records=2 | Timestamp=2025-05-28T03:54:09.269930 | Sending from producer 3\n",
      "📤 Sending batch_id=11 | Records=1 | Timestamp=2025-05-28T03:54:10.078420 | Sending from producer 3\n",
      "📤 Sending batch_id=12 | Records=1 | Timestamp=2025-05-28T03:54:10.883560 | Sending from producer 3\n",
      "📤 Sending batch_id=13 | Records=1 | Timestamp=2025-05-28T03:54:11.695211 | Sending from producer 3\n",
      "📤 Sending batch_id=14 | Records=1 | Timestamp=2025-05-28T03:54:12.506542 | Sending from producer 3\n",
      "📤 Sending batch_id=15 | Records=1 | Timestamp=2025-05-28T03:54:13.312114 | Sending from producer 3\n",
      "📤 Sending batch_id=16 | Records=1 | Timestamp=2025-05-28T03:54:14.127365 | Sending from producer 3\n"
     ]
    },
    {
     "ename": "KeyboardInterrupt",
     "evalue": "",
     "output_type": "error",
     "traceback": [
      "\u001b[0;31m---------------------------------------------------------------------------\u001b[0m",
      "\u001b[0;31mKeyboardInterrupt\u001b[0m                         Traceback (most recent call last)",
      "Cell \u001b[0;32mIn[15], line 61\u001b[0m\n\u001b[1;32m     53\u001b[0m     producer\u001b[38;5;241m.\u001b[39msend(\n\u001b[1;32m     54\u001b[0m         topic\u001b[38;5;241m=\u001b[39mtopic_name,\n\u001b[1;32m     55\u001b[0m         key\u001b[38;5;241m=\u001b[39mproducer_id,\n\u001b[1;32m     56\u001b[0m         value\u001b[38;5;241m=\u001b[39mrecords,\n\u001b[1;32m     57\u001b[0m         timestamp_ms\u001b[38;5;241m=\u001b[39mtimestamp_ms\n\u001b[1;32m     58\u001b[0m     )\n\u001b[1;32m     60\u001b[0m     \u001b[38;5;66;03m# ⚠️ DO NOT FLUSH → Let Kafka batch and optimize\u001b[39;00m\n\u001b[0;32m---> 61\u001b[0m     \u001b[43mtime\u001b[49m\u001b[38;5;241;43m.\u001b[39;49m\u001b[43msleep\u001b[49m\u001b[43m(\u001b[49m\u001b[43mbatch_interval\u001b[49m\u001b[43m)\u001b[49m\n\u001b[1;32m     63\u001b[0m \u001b[38;5;28mprint\u001b[39m(\u001b[38;5;124m\"\u001b[39m\u001b[38;5;124m✅ All batches sent.\u001b[39m\u001b[38;5;124m\"\u001b[39m)\n",
      "\u001b[0;31mKeyboardInterrupt\u001b[0m: "
     ]
    }
   ],
   "source": [
    "# Load the data\n",
    "df = pd.read_csv(\"data/camera_event_C.csv\")\n",
    "\n",
    "# Kafka settings\n",
    "producer_id = 3\n",
    "topic_name = \"camera_events\"\n",
    "# kafka_host = \"10.192.1.110:9092\"\n",
    "# kafka_host = \"192.168.100.165:9092\"\n",
    "kafka_host = \"10.192.0.245:9092\"\n",
    "\n",
    "batch_interval = 1  # seconds\n",
    "\n",
    "# Connect Kafka Producer\n",
    "producer = KafkaProducer(\n",
    "    bootstrap_servers=[kafka_host],\n",
    "    value_serializer=lambda v: json.dumps(v).encode(\"utf-8\"),\n",
    "    key_serializer=lambda k: str(k).encode(\"utf-8\"),\n",
    "    api_version=(0, 10)\n",
    ")\n",
    "\n",
    "# Group by batch_id\n",
    "grouped = df.groupby(\"batch_id\")\n",
    "\n",
    "# Send batch-wise\n",
    "for batch_id, group in grouped:\n",
    "    send_time = datetime.utcnow().isoformat()\n",
    "    timestamp_dt = datetime.fromisoformat(send_time)\n",
    "    timestamp_ms = int(timestamp_dt.timestamp() * 1000)\n",
    "\n",
    "    # Add extra metadata\n",
    "    group = group.copy()\n",
    "    group[\"producer_id\"] = producer_id\n",
    "    group[\"camera_id\"] = 3\n",
    "    group[\"send_time\"] = send_time\n",
    "\n",
    "    records = group.to_dict(orient=\"records\")\n",
    "\n",
    "    print(f\"Sending batch_id={batch_id} | Records={len(records)} | Timestamp={send_time} | Sending from producer {producer_id}\")\n",
    "\n",
    "    # Send to Kafka (as batch payload)\n",
    "    producer.send(\n",
    "        topic=topic_name,\n",
    "        key=producer_id,\n",
    "        value=records,\n",
    "        timestamp_ms=timestamp_ms\n",
    "    )\n",
    "\n",
    "    time.sleep(batch_interval)\n",
    "\n",
    "print(\"All batches sent.\")\n"
   ]
  }
 ],
 "metadata": {
  "kernelspec": {
   "display_name": "Python 3 (ipykernel)",
   "language": "python",
   "name": "python3"
  },
  "language_info": {
   "codemirror_mode": {
    "name": "ipython",
    "version": 3
   },
   "file_extension": ".py",
   "mimetype": "text/x-python",
   "name": "python",
   "nbconvert_exporter": "python",
   "pygments_lexer": "ipython3",
   "version": "3.8.15"
  }
 },
 "nbformat": 4,
 "nbformat_minor": 5
}
