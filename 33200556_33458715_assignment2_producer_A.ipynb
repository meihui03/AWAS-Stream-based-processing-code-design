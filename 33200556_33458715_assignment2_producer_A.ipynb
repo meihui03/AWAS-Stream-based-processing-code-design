{
 "cells": [
  {
   "cell_type": "markdown",
   "id": "860811ff",
   "metadata": {},
   "source": [
    "# Producer A\n"
   ]
  },
  {
   "cell_type": "code",
   "execution_count": 74,
   "id": "c01d7cdd",
   "metadata": {},
   "outputs": [],
   "source": [
    "from kafka import KafkaProducer\n",
    "import json\n",
    "import time\n",
    "import pandas as pd\n",
    "from datetime import datetime"
   ]
  },
  {
   "cell_type": "code",
   "execution_count": null,
   "id": "c63efc52",
   "metadata": {},
   "outputs": [],
   "source": [
    "# Load the data\n",
    "df = pd.read_csv(\"data/camera_event_A.csv\")\n",
    "\n",
    "# Kafka settings\n",
    "producer_id = 1\n",
    "topic_name = \"camera_events\"\n",
    "# kafka_host = \"10.192.1.110:9092\"\n",
    "# kafka_host = \"192.168.100.165:9092\"\n",
    "kafka_host = \"10.192.0.245:9092\"\n",
    "\n",
    "batch_interval = 10\n",
    "\n",
    "# Connect Kafka Producer\n",
    "producer = KafkaProducer(\n",
    "    bootstrap_servers=[kafka_host],\n",
    "    value_serializer=lambda v: json.dumps(v).encode(\"utf-8\"),\n",
    "    key_serializer=lambda k: str(k).encode(\"utf-8\"),\n",
    "    api_version=(0, 10)\n",
    ")\n",
    "\n",
    "# Group by batch_id\n",
    "grouped = df.groupby(\"batch_id\")\n",
    "\n",
    "# Send batch-wise\n",
    "for batch_id, group in grouped:\n",
    "    send_time = datetime.utcnow().isoformat()\n",
    "    timestamp_dt = datetime.fromisoformat(send_time)\n",
    "    timestamp_ms = int(timestamp_dt.timestamp() * 1000)\n",
    "\n",
    "    # Add extra metadata\n",
    "    group = group.copy()\n",
    "    group[\"producer_id\"] = producer_id\n",
    "    group[\"camera_id\"] = 1\n",
    "    group[\"send_time\"] = send_time\n",
    "\n",
    "    records = group.to_dict(orient=\"records\")\n",
    "\n",
    "    print(f\"Sending batch_id={batch_id} | Records={len(records)} | Timestamp={send_time} | Sending from producer {producer_id}\")\n",
    "\n",
    "    # Send to Kafka (as batch payload)\n",
    "    producer.send(\n",
    "        topic=topic_name,\n",
    "        key=producer_id,\n",
    "        value=records,\n",
    "        timestamp_ms=timestamp_ms\n",
    "    )\n",
    "\n",
    "    time.sleep(batch_interval)\n",
    "\n",
    "print(\"All batches sent.\")\n"
   ]
  }
 ],
 "metadata": {
  "kernelspec": {
   "display_name": "Python 3 (ipykernel)",
   "language": "python",
   "name": "python3"
  },
  "language_info": {
   "codemirror_mode": {
    "name": "ipython",
    "version": 3
   },
   "file_extension": ".py",
   "mimetype": "text/x-python",
   "name": "python",
   "nbconvert_exporter": "python",
   "pygments_lexer": "ipython3",
   "version": "3.8.15"
  }
 },
 "nbformat": 4,
 "nbformat_minor": 5
}
